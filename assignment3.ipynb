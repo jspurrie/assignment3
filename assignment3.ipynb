{
 "cells": [
  {
   "cell_type": "code",
   "execution_count": 88,
   "id": "6f3f5707",
   "metadata": {},
   "outputs": [],
   "source": [
    "import pandas as pd"
   ]
  },
  {
   "cell_type": "code",
   "execution_count": 89,
   "id": "2a214847",
   "metadata": {},
   "outputs": [],
   "source": [
    "nba_2021 = pd.read_csv('/Users/johnspurrier/Downloads/nba2021.csv')\n",
    "nba_2022 = pd.read_csv('/Users/johnspurrier/Downloads/nba2022.csv')\n",
    "nba_2023 = pd.read_csv('/Users/johnspurrier/Downloads/nba2023.csv')"
   ]
  },
  {
   "cell_type": "code",
   "execution_count": 90,
   "id": "3ecf06ec",
   "metadata": {},
   "outputs": [
    {
     "name": "stdout",
     "output_type": "stream",
     "text": [
      "<class 'pandas.core.frame.DataFrame'>\n",
      "RangeIndex: 497 entries, 0 to 496\n",
      "Data columns (total 29 columns):\n",
      " #   Column  Non-Null Count  Dtype  \n",
      "---  ------  --------------  -----  \n",
      " 0   Player  497 non-null    object \n",
      " 1   Pos     497 non-null    object \n",
      " 2   Age     497 non-null    int64  \n",
      " 3   Tm      497 non-null    object \n",
      " 4   G       497 non-null    int64  \n",
      " 5   GS      497 non-null    int64  \n",
      " 6   MP      497 non-null    float64\n",
      " 7   FG      497 non-null    float64\n",
      " 8   FGA     497 non-null    float64\n",
      " 9   FG%     497 non-null    float64\n",
      " 10  3P      497 non-null    float64\n",
      " 11  3PA     497 non-null    float64\n",
      " 12  3P%     497 non-null    float64\n",
      " 13  2P      497 non-null    float64\n",
      " 14  2PA     497 non-null    float64\n",
      " 15  2P%     497 non-null    float64\n",
      " 16  eFG%    497 non-null    float64\n",
      " 17  FT      497 non-null    float64\n",
      " 18  FTA     497 non-null    float64\n",
      " 19  FT%     497 non-null    float64\n",
      " 20  ORB     497 non-null    float64\n",
      " 21  DRB     497 non-null    float64\n",
      " 22  TRB     497 non-null    float64\n",
      " 23  AST     497 non-null    float64\n",
      " 24  STL     497 non-null    float64\n",
      " 25  BLK     497 non-null    float64\n",
      " 26  TOV     497 non-null    float64\n",
      " 27  PF      497 non-null    float64\n",
      " 28  PTS     497 non-null    float64\n",
      "dtypes: float64(23), int64(3), object(3)\n",
      "memory usage: 112.7+ KB\n"
     ]
    }
   ],
   "source": [
    "nba_2021.info()"
   ]
  },
  {
   "cell_type": "code",
   "execution_count": 91,
   "id": "db38d327",
   "metadata": {},
   "outputs": [],
   "source": [
    "nba_2021 = nba_2021.drop(columns=['Pos','Age','Tm'])"
   ]
  },
  {
   "cell_type": "code",
   "execution_count": 92,
   "id": "969940da",
   "metadata": {},
   "outputs": [
    {
     "name": "stdout",
     "output_type": "stream",
     "text": [
      "<class 'pandas.core.frame.DataFrame'>\n",
      "RangeIndex: 812 entries, 0 to 811\n",
      "Data columns (total 30 columns):\n",
      " #   Column  Non-Null Count  Dtype  \n",
      "---  ------  --------------  -----  \n",
      " 0   Rk      812 non-null    int64  \n",
      " 1   Player  812 non-null    object \n",
      " 2   Pos     812 non-null    object \n",
      " 3   Age     812 non-null    int64  \n",
      " 4   Tm      812 non-null    object \n",
      " 5   G       812 non-null    int64  \n",
      " 6   GS      812 non-null    int64  \n",
      " 7   MP      812 non-null    float64\n",
      " 8   FG      812 non-null    float64\n",
      " 9   FGA     812 non-null    float64\n",
      " 10  FG%     812 non-null    float64\n",
      " 11  3P      812 non-null    float64\n",
      " 12  3PA     812 non-null    float64\n",
      " 13  3P%     812 non-null    float64\n",
      " 14  2P      812 non-null    float64\n",
      " 15  2PA     812 non-null    float64\n",
      " 16  2P%     812 non-null    float64\n",
      " 17  eFG%    812 non-null    float64\n",
      " 18  FT      812 non-null    float64\n",
      " 19  FTA     812 non-null    float64\n",
      " 20  FT%     812 non-null    float64\n",
      " 21  ORB     812 non-null    float64\n",
      " 22  DRB     812 non-null    float64\n",
      " 23  TRB     812 non-null    float64\n",
      " 24  AST     812 non-null    float64\n",
      " 25  STL     812 non-null    float64\n",
      " 26  BLK     812 non-null    float64\n",
      " 27  TOV     812 non-null    float64\n",
      " 28  PF      812 non-null    float64\n",
      " 29  PTS     812 non-null    float64\n",
      "dtypes: float64(23), int64(4), object(3)\n",
      "memory usage: 190.4+ KB\n"
     ]
    }
   ],
   "source": [
    "nba_2022.info()"
   ]
  },
  {
   "cell_type": "code",
   "execution_count": 93,
   "id": "150ff58d",
   "metadata": {},
   "outputs": [],
   "source": [
    "nba_2022 = nba_2022.drop(columns=['Rk','Pos','Age','Tm'])\n",
    "nba_2023 = nba_2023.drop(columns=['Rk','Pos','Age','Tm'])"
   ]
  },
  {
   "cell_type": "code",
   "execution_count": 94,
   "id": "f1d0c166",
   "metadata": {},
   "outputs": [],
   "source": [
    "nba_2021_model = nba_2021.set_index('Player')\n",
    "nba_2022_model = nba_2022.set_index('Player')\n",
    "nba_2023_model = nba_2023.set_index('Player')"
   ]
  },
  {
   "cell_type": "code",
   "execution_count": 95,
   "id": "68ce7b4e",
   "metadata": {},
   "outputs": [],
   "source": [
    "import scipy.spatial.distance "
   ]
  },
  {
   "cell_type": "code",
   "execution_count": 96,
   "id": "e53b39fc",
   "metadata": {},
   "outputs": [],
   "source": [
    "mvp2021 = \"Nikola Jokić\"\n",
    "mvp2022 = \"Nikola Joki?\"\n",
    "mvp2023 = \"Joel Embiid\""
   ]
  },
  {
   "cell_type": "code",
   "execution_count": 97,
   "id": "47f906a5",
   "metadata": {},
   "outputs": [],
   "source": [
    "stats_2021 = nba_2021_model.loc[mvp2021]\n",
    "distances = scipy.spatial.distance.cdist(nba_2021_model, [stats_2021], metric = \"euclidean\")[:,0]\n",
    "query_distances = list(zip(nba_2021.index, distances))\n"
   ]
  },
  {
   "cell_type": "code",
   "execution_count": 98,
   "id": "c663b574",
   "metadata": {},
   "outputs": [
    {
     "name": "stdout",
     "output_type": "stream",
     "text": [
      "Nikola Jokić 0.0\n",
      "Giannis Antetokounmpo 6.540328661466487\n",
      "LeBron James 6.792923744603645\n",
      "Luka Dončić 7.208339267820295\n",
      "Julius Randle 7.9252830233374\n",
      "Domantas Sabonis 8.31592586547042\n",
      "Nikola Vučević 9.488869637633346\n",
      "Jaylen Brown 10.17845562941648\n",
      "Zach LaVine 10.27304521551424\n",
      "Zion Williamson 10.50841600813367\n",
      "Kawhi Leonard 10.84708025230753\n"
     ]
    }
   ],
   "source": [
    "for player, stats in sorted(query_distances, key = lambda x: x[1], reverse = False)[:11]:\n",
    "    print(nba_2021['Player'].iloc[player], stats)"
   ]
  },
  {
   "cell_type": "code",
   "execution_count": 99,
   "id": "42cbbdef",
   "metadata": {},
   "outputs": [],
   "source": [
    "stats_2022 = nba_2022_model.loc[mvp2022]\n",
    "distances = scipy.spatial.distance.cdist(nba_2022_model, [stats_2022], metric = \"euclidean\")[:,0]\n",
    "query_distances = list(zip(nba_2022.index, distances))"
   ]
  },
  {
   "cell_type": "code",
   "execution_count": 100,
   "id": "048722f0",
   "metadata": {},
   "outputs": [
    {
     "name": "stdout",
     "output_type": "stream",
     "text": [
      "Nikola Joki? 0.0\n",
      "Karl-Anthony Towns 8.591531528196821\n",
      "Julius Randle 11.140776364329373\n",
      "Jayson Tatum 11.209113479664662\n",
      "Giannis Antetokounmpo 12.55998885349824\n",
      "Joel Embiid 12.849932023166506\n",
      "Pascal Siakam 13.153187484408484\n",
      "Dejounte Murray 13.495973510643832\n",
      "DeMar DeRozan 13.616100029009777\n",
      "Nikola Vu?evi? 13.88375878499767\n",
      "Russell Westbrook 14.35792171590304\n"
     ]
    }
   ],
   "source": [
    "for player, stats in sorted(query_distances, key = lambda x: x[1], reverse = False)[:11]:\n",
    "    print(nba_2022['Player'].iloc[player], stats)"
   ]
  },
  {
   "cell_type": "code",
   "execution_count": 101,
   "id": "5152e796",
   "metadata": {},
   "outputs": [],
   "source": [
    "stats_2023 = nba_2023_model.loc[mvp2023]\n",
    "distances = scipy.spatial.distance.cdist(nba_2023_model, [stats_2023], metric = \"euclidean\")[:,0]\n",
    "query_distances = list(zip(nba_2023.index, distances))"
   ]
  },
  {
   "cell_type": "code",
   "execution_count": 102,
   "id": "10323fff",
   "metadata": {},
   "outputs": [
    {
     "name": "stdout",
     "output_type": "stream",
     "text": [
      "Joel Embiid 0.0\n",
      "Giannis Antetokounmpo 6.4364645575036\n",
      "Shai Gilgeous-Alexander 8.120261880013476\n",
      "Luka Don?i? 8.827017786319454\n",
      "Jaylen Brown 13.7234247912101\n",
      "Pascal Siakam 14.907682885009327\n",
      "Ja Morant 14.959897025046665\n",
      "Nikola Joki? 15.52856731962096\n",
      "Lauri Markkanen 15.529218235313717\n",
      "Jayson Tatum 15.896190549939947\n",
      "Donovan Mitchell 16.093718464046773\n"
     ]
    }
   ],
   "source": [
    "for player, stats in sorted(query_distances, key = lambda x: x[1], reverse = False)[:11]:\n",
    "    print(nba_2023['Player'].iloc[player], stats)"
   ]
  },
  {
   "cell_type": "code",
   "execution_count": null,
   "id": "92b41baa",
   "metadata": {},
   "outputs": [],
   "source": []
  }
 ],
 "metadata": {
  "kernelspec": {
   "display_name": "Python 3 (ipykernel)",
   "language": "python",
   "name": "python3"
  },
  "language_info": {
   "codemirror_mode": {
    "name": "ipython",
    "version": 3
   },
   "file_extension": ".py",
   "mimetype": "text/x-python",
   "name": "python",
   "nbconvert_exporter": "python",
   "pygments_lexer": "ipython3",
   "version": "3.9.13"
  }
 },
 "nbformat": 4,
 "nbformat_minor": 5
}
